{
 "cells": [
  {
   "cell_type": "code",
   "execution_count": null,
   "metadata": {},
   "outputs": [],
   "source": [
    "%load_ext autoreload\n",
    "%autoreload 2\n",
    "\n",
    "%matplotlib inline"
   ]
  },
  {
   "cell_type": "markdown",
   "metadata": {},
   "source": [
    "## Basic setup"
   ]
  },
  {
   "cell_type": "markdown",
   "metadata": {},
   "source": [
    "Create anaconda environment\n",
    "<br>\n",
    "```bash\n",
    "conda create -n ml python=3.7.4 jupyter\n",
    "```\n",
    "Install fastai library\n",
    "<br>\n",
    "```bash\n",
    "conda install -c pytorch -c fastai fastai\n",
    "```"
   ]
  },
  {
   "cell_type": "markdown",
   "metadata": {},
   "source": [
    "# Sigma-algebras"
   ]
  },
  {
   "cell_type": "markdown",
   "metadata": {},
   "source": [
    "#### Prove that:\n",
    "Composition of mesurable functions is a mesurable function"
   ]
  },
  {
   "cell_type": "markdown",
   "metadata": {},
   "source": [
    "Let $(X, \\sum_X), (Y, \\sum_Y ),$ and $(Z, \\sum_Z)$ be measurable spaces. If\n",
    "$f : X \\to Y$ and $g : Y \\to Z$ are measurable with respect to the given $\\sigma$ -algebras,\n",
    "then $g o f : X \\to Z$ is measurable.\n",
    "\n",
    "Proof: We simply have to verify that if $E$ is a measurable subset of $Z$ then its\n",
    "inverse image under $g o f$ is a measurable subset of $X$. This follows from the\n",
    "individual measurability of $f$ and $g$, for if $E \\in \\sum_Z $then $g^{-1}(E) \\in \\sum_Y$ since $g$ is measurable, and hence\n",
    "$(g o f)^{-1}(E) = f^{-1}(g^{-1}(E)) \\in \\sum_X $\n",
    "since $f$ is measurable."
   ]
  },
  {
   "cell_type": "markdown",
   "metadata": {},
   "source": [
    "## Mesure"
   ]
  },
  {
   "cell_type": "markdown",
   "metadata": {},
   "source": [
    "#### Prove the following mesure properties:\n",
    "- if $A \\subset B$ then $\\mu(A) \\le \\mu(B)$\n",
    "<br>\n",
    "Proof: $(B - A) \\cup (A \\cap B) = (B - A) \\cup A = B$ and $(B - A) \\cap (A \\cap B) = \\emptyset$ so $\\mu((B - A) \\cup (A \\cap B)) = \\mu(B - A) + \\mu(A \\cap B) = \\mu(B - A) + \\mu(A) = \\mu(B)$ so $\\mu(A) \\le \\mu(B)$"
   ]
  },
  {
   "cell_type": "markdown",
   "metadata": {},
   "source": [
    "## Probability"
   ]
  },
  {
   "cell_type": "markdown",
   "metadata": {},
   "source": [
    "#### Prove that:\n",
    "For probability mesure $P$ and events $A, B, C \\subset \\Omega$\n",
    "- $P(A \\cup B) = P(A) + P(B) - P(A \\cap B)$\n",
    "<br>"
   ]
  },
  {
   "cell_type": "markdown",
   "metadata": {},
   "source": [
    "proof : There is $A \\cup (B \\cap A^c) = (A \\cup B) \\cap (A \\cup A^c) = A \\cup B$, which is to say that $ A \\cup B$ can\n",
    "be expressed as the union of two disjoint sets. Therefore, according to axiom 3, there is\n",
    "$P(A \\cup B) = P(A) + P(B \\cap A^c).$\n",
    "But $B = B \\cap (A \\cup A^c) = (B \\cap A) \\cup (B \\cap A^c)$ is also the union of two disjoint sets, so there\n",
    "is also\n",
    "$P(B) = P(B \\cap A) + P(B \\cap A^c) \\to P(B \\cap A^c) = P(B) - P(B \\cap A).$\n",
    "Substituting the latter expression into the one above gives\n",
    "$P(A \\cup B) = P(A) + P(B) - P(A \\cap B).$"
   ]
  },
  {
   "cell_type": "markdown",
   "metadata": {},
   "source": [
    "## Random variable"
   ]
  },
  {
   "cell_type": "markdown",
   "metadata": {},
   "source": [
    "#### Prove that:\n",
    "$$\n",
    "\\sigma^2 = \\operatorname{E}[X^2] - (\\operatorname{E}[X])^2\n",
    "$$\n",
    "Assuming that expectation exists\n",
    "<br>\n",
    "Denoted by $\\sigma^2$\n",
    "<br>"
   ]
  },
  {
   "cell_type": "markdown",
   "metadata": {},
   "source": [
    "$Var(x)=\\sigma^2 = \\int_{-\\infty}^\\infty (x-\\mu)^2f(x)dx = \\int_{-\\infty}^\\infty (x+\\mu^2-2x\\mu)^2f(x)dx = \\int_{-\\infty}^\\infty x^2f(x)d(x)+\\mu^2\\int_{-\\infty}^\\infty f(x)dx - 2\\mu\\int_{-\\infty}^\\infty xf(x)dx = E[X^2]+\\mu^2-2\\mu^2 = E[X^2]-\\mu^2 = E[X^2]-(E[X])^2$\n"
   ]
  }
 ],
 "metadata": {
  "kernelspec": {
   "display_name": "Python 3",
   "language": "python",
   "name": "python3"
  },
  "language_info": {
   "codemirror_mode": {
    "name": "ipython",
    "version": 3
   },
   "file_extension": ".py",
   "mimetype": "text/x-python",
   "name": "python",
   "nbconvert_exporter": "python",
   "pygments_lexer": "ipython3",
   "version": "3.7.4"
  }
 },
 "nbformat": 4,
 "nbformat_minor": 4
}
