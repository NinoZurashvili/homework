{
 "cells": [
  {
   "cell_type": "code",
   "execution_count": null,
   "metadata": {},
   "outputs": [],
   "source": [
    "%load_ext autoreload\n",
    "%autoreload 2\n",
    "\n",
    "%matplotlib inline"
   ]
  },
  {
   "cell_type": "markdown",
   "metadata": {},
   "source": [
    "## Basic setup"
   ]
  },
  {
   "cell_type": "markdown",
   "metadata": {},
   "source": [
    "Create anaconda environment\n",
    "<br>\n",
    "```bash\n",
    "conda create -n ml python=3.7.4 jupyter\n",
    "```\n",
    "Install fastai library\n",
    "<br>\n",
    "```bash\n",
    "conda install -c pytorch -c fastai fastai\n",
    "```"
   ]
  },
  {
   "cell_type": "markdown",
   "metadata": {},
   "source": [
    "# Set theory basics"
   ]
  },
  {
   "cell_type": "markdown",
   "metadata": {},
   "source": [
    "#### Prove that:\n",
    "<br>\n",
    "$A \\subseteq A$"
   ]
  },
  {
   "cell_type": "markdown",
   "metadata": {},
   "source": [
    "proof: take $x$ from $A$\n",
    "\n",
    "$x \\in A \\to A \\subseteq A$"
   ]
  },
  {
   "cell_type": "markdown",
   "metadata": {},
   "source": [
    "#### Prove that:\n",
    "<br>\n",
    "If $A \\subseteq B$ and $B \\subseteq A$ $\\to$ $A = B$"
   ]
  },
  {
   "cell_type": "markdown",
   "metadata": {},
   "source": [
    "Proof: Let $x$ be arbitrary.\n",
    "\n",
    "Because $A \\subseteq B$ if $x \\in A$ then $x \\in B$\n",
    "\n",
    "Because $B \\subseteq A$ if $x \\in B$ then $x \\in A$\n",
    "\n",
    "Hence, $x \\in A$ iff $x \\in B$, thus $A = B$"
   ]
  },
  {
   "cell_type": "markdown",
   "metadata": {},
   "source": [
    "#### Prove that:\n",
    "<br>\n",
    "if $B \\subset A$ then $A \\cap B = B$"
   ]
  },
  {
   "cell_type": "markdown",
   "metadata": {},
   "source": [
    "Proof : First assume that $B \\subset A$. If $x \\in A \\cap B$, then $x \\in A$ and $x \\in B$ by\n",
    "definition, so in particular $x \\in B$. This proves $A \\cap B \\subseteq B$. Now if $x \\in B$,\n",
    "then by assumption $x \\in A$, too, so $x \\in A \\cap B$. This proves $B \\subseteq A \\cap B$.\n",
    "Together this implies $B = A \\cap B$.\n"
   ]
  },
  {
   "cell_type": "markdown",
   "metadata": {},
   "source": [
    "#### Prove that:\n",
    "<br>\n",
    "$A \\cap B = B \\cap A$"
   ]
  },
  {
   "cell_type": "markdown",
   "metadata": {},
   "source": [
    "Proof: consider $x \\in A \\cap B$ ,  $x \\in A$ and $x \\in B$ (definition of intersection) \n",
    "\n",
    "$x \\in B$ and $x \\in A (P \\Lambda Q <--> Q \\Lambda P)$\n",
    "\n",
    "$x \\in B \\cap A$ (definition of intersection)"
   ]
  },
  {
   "cell_type": "markdown",
   "metadata": {},
   "source": [
    "#### Prove that:\n",
    "<br>\n",
    "if $B \\subset A$ then $A \\cup B = A$"
   ]
  },
  {
   "cell_type": "markdown",
   "metadata": {},
   "source": [
    "Proof:  $A \\subseteq A$ and $B \\subseteq A$, \n",
    "\n",
    "then by definition $A \\cup B \\subseteq A$. \n",
    "\n",
    "On the other hand, $A \\subseteq A \\cup B$, -> $A \\cup B = A$"
   ]
  },
  {
   "cell_type": "markdown",
   "metadata": {},
   "source": [
    "#### Prove that:\n",
    "<br>\n",
    "$A \\cup B = B \\cup A$"
   ]
  },
  {
   "cell_type": "markdown",
   "metadata": {},
   "source": [
    "proof: Suppose that $x \\in A \\cup B$. Then $x \\in A$ or $x \\in B$ or $x \\in A \\cap B$ to which we write that $x \\in B \\cup A$. Therefore $A \\cup B=B \\cup A$."
   ]
  },
  {
   "cell_type": "markdown",
   "metadata": {},
   "source": [
    "#### Prove that:\n",
    "- for every injection $m:A \\to B$ and pair of functions $f, g :C \\to A$: if $m \\circ f = m \\circ g$ then $f = g$ and vice-versa\n",
    "- for every surjection $e:A \\to B$ and every pair of functions $f, g :B \\to C$: if $f \\circ e = g \\circ e$ then $f = g$ and vice-versa"
   ]
  },
  {
   "cell_type": "markdown",
   "metadata": {},
   "source": [
    "#### Prove that \n",
    "- composition of injections is injection itself\n",
    "- composition of surjections is surjection itself\n",
    "- composition of bijections is bijection itself\n",
    "<br>\n",
    "or give a counterexamples"
   ]
  },
  {
   "cell_type": "markdown",
   "metadata": {},
   "source": [
    "proof 1: $f(g(x))=f(g(y))$\t\t\tDefinition of Composition of Mappings\t\n",
    "$g(x)=g(y)$\t\t\tas $f$ is injective\t\n",
    "$x=y$\t\t\tas $g$ is injective"
   ]
  },
  {
   "cell_type": "markdown",
   "metadata": {},
   "source": [
    "proof 2: Suppose $f : A \\rightarrow B$\tand\t   $ g : B \\rightarrow C$ are surjective\t(onto).\n",
    "To\tprove\tthat\t$g(f):A\\rightarrow C$\tis\tsurjective,\twe\tneed to\tprove that for any $ c\\in C \\exists a\\in A$\tsuch\tthat\t $(gof)(a)\t=\tc.$\n",
    "Let\t$c$\tbe\tany\telement\tof\t$C$.\t\t\n",
    "Since\t$g:B \\rightarrow C$ is\tsurjective,\t$\\exists b\\in B$\tsuch\tthat\t$g(b)=c$.\n",
    "Since\t$f:A \\rightarrow B$\tis\tsurjective,\t$\\exists a \\in A$\tsuch\tthat\t$f(a)=b$.\n",
    "So,\t$(gof)(a)=g(f(a))=g(b)=c$.\n",
    "This\tcompletes\tthe\tproof."
   ]
  },
  {
   "cell_type": "markdown",
   "metadata": {},
   "source": [
    "Proof 3: Suppose there are bijections $f : A \\rightarrow B$ and $g : B \\rightarrow C,$ and define $h = (g o f) : A \\rightarrow C$. We will\n",
    "show that h is a bijection\n",
    "\n",
    "We first show that $h$ is surjective, that is that $h$ is onto. Recall that since since $f$ and $g$ are both bijections\n",
    "(and hence surjections), we have that $f(A) = B$ and $g(B) = C$. Therefore we also have that\n",
    "$h(A) = (g o f)(A)= ${$c \\in C | (g o f)(a) = c,$ for some $a \\in A$}= {$c \\in C | g(f(a)) = c$, for some $a \\in A$}= {c $\\in$ C | g(b) = c, for some b $\\in$ f(A)} = g(f(A))= g(B)= C\n",
    "\n",
    "and hence $h$ is also surjective.\n",
    "\n",
    "Next we will show that $h$ is injective. That is, we will show that if $h(a) = h(a') then we must have that a = a'\n",
    "\n",
    "Suppose that $h(a) = h(a')$ By our definition of $h$ this means that $g(f(a)) = g(f(a'))$. However,\n",
    "both f and g are injective (since they are bijections) and so g(f(a)) = g(f(a')) $\\rightarrow f(a) = f(a') \\rightarrow a = a'$\n",
    "\n",
    "and hence $h$ is injective. \n",
    "\n",
    "Since $h$ is both surjective (onto) and injective (1-to-1), then $h$ is a bijection, and the sets $A$ and $C$ are in\n",
    "bijective correspondence.\n"
   ]
  },
  {
   "cell_type": "markdown",
   "metadata": {},
   "source": [
    "#### Prove that for each set $A$:\n",
    "- $A \\cong A$\n",
    "- if $B \\cong A$ then $B \\cong A$ for every pair of sets $A$ and $B$\n",
    "- if $A \\cong B$ and $B \\cong C$ then $A \\cong C$ for every triplet $A$, $B$ and $C$"
   ]
  },
  {
   "cell_type": "markdown",
   "metadata": {},
   "source": [
    "proof 1:\n",
    "\n",
    "bijection:  $f: A \\to A$ consider $f(x)=x$ for each $x \\in A$"
   ]
  },
  {
   "cell_type": "markdown",
   "metadata": {},
   "source": [
    "proof 2:  $B \\cong A$ ->  there exists bijection $f: B \\to A$, which has reverse function $f^{-1}$, and this function is also \n",
    "bijection $\\to$ $A \\cong A$\n"
   ]
  },
  {
   "cell_type": "markdown",
   "metadata": {},
   "source": [
    "proof 3: $A \\cong B$ and $B \\cong C$ -> there exists bijections $f: A \\to B$ and $g: B\\to C$.  use that composition of bijections is bijection itself, therefore $A \\cong C$"
   ]
  },
  {
   "cell_type": "markdown",
   "metadata": {},
   "source": [
    "#### Prove that:\n",
    "<br>\n",
    "there exists a bijection between set of natural and even numbers"
   ]
  },
  {
   "cell_type": "markdown",
   "metadata": {},
   "source": [
    "proof: Clearly, the function $f:N \\rightarrow Z^+$ is onto because every positive integer is hit. And it is also one-to-one because no two natural numbers have the same image. (The image of $n$ is $f(n) = n+1$, so if $f(n) = f(m)$ then we must have $n = m.$) \n",
    "\n",
    "there seem to be twice as many natural numbers as there are even\n",
    "natural numbers. Surely, the cardinality of $N$ must be larger than that of $2N$ since $N$ contains all of the odd\n",
    "natural numbers as well. f is clearly one-to-one, since distinct natural numbers get\n",
    "mapped to distinct even natural numbers (because $f(n) = 2n$). $f$ is also onto, since every $n$ in the range is\n",
    "hit: its pre-image is $n/2$\n"
   ]
  },
  {
   "cell_type": "markdown",
   "metadata": {},
   "source": [
    "#### Prove that:\n",
    "<br>\n",
    "if we have a bijection between two finite sets than they have an equal number of elements"
   ]
  },
  {
   "cell_type": "markdown",
   "metadata": {},
   "source": [
    "#### Prove that:\n",
    "<br>\n",
    "$A \\times B \\cong B \\times A$"
   ]
  },
  {
   "cell_type": "markdown",
   "metadata": {},
   "source": [
    "$\\cap_{i\\in I}A_i$ and $\\cup_{i\\in I}A_i$"
   ]
  },
  {
   "cell_type": "markdown",
   "metadata": {},
   "source": [
    "We can also define cartesian product of any \"number\" of sets $\\prod_{i \\in I}{A_i}$"
   ]
  },
  {
   "cell_type": "markdown",
   "metadata": {},
   "source": [
    "#### Prove that:\n",
    "<br>\n",
    "$$A \\cap (B \\cup C)=(A \\cap B) \\cup (A\\cap C)$$\n",
    "$$A \\cup (B \\cap C)=(A \\cup B) \\cap (A\\cup C)$$"
   ]
  },
  {
   "cell_type": "markdown",
   "metadata": {},
   "source": [
    "Proof 1: Let $x$ be arbitrary. Then $x \\in A \\cap (B \\cup C)$ \n",
    "\n",
    "iff $x \\in A$ and $x \\in B \\cap C$\n",
    "\n",
    "iff $x \\in A$ and $(x \\in B or x \\in C)$\n",
    "\n",
    "iff $(x \\in A$ and $x \\in B)$ or $(x \\in A$ and $x \\in C)$\n",
    "\n",
    "iff $x \\in A \\cap B$ or $x \\in A \\cap C$\n",
    "\n",
    "iff $x \\in (A \\cap B) \\cup (A \\cap C)$"
   ]
  },
  {
   "cell_type": "markdown",
   "metadata": {},
   "source": [
    "proof 2: Since $B\\cap C \\subseteq B$ and $B \\cap C \\subseteq C$, we have $A\\cup(B \\cap C)\\subseteq A\\cup B$ and $A\\cup (B \\cap C) \\subseteq A\\cup C$\n",
    "\n",
    "\n",
    "This shows that $A\\cup (B \\cap C)$ is contained in both $A\\cup B$ and $A\\cup C$, so it is contained in their intersection:$A\\cup (B \\cap C)\\subseteq (A\\cup B) \\cap (A\\cup C)$\n",
    "This proves containment in one direction.\n",
    "\n",
    "For the opposite direction, suppose that $x\\in (A\\cup B) \\cap (A\\cup C)$. There are two possibilities: either $x\\in A$ or $x\\notin A$.\n",
    "\n",
    "If $x\\in A$ then certainly $x\\in A\\cup (B \\cap C)$.\n",
    "\n",
    "On the other hand, if $x\\notin A$, then $x$ must be in both $B$ and $C$, since $x\\in (A\\cup B) \\cap (A\\cup C)$. Consequently, $x\\in B \\cap C$, and therefore $x\\in A\\cup (B \\cap C)$.\n",
    "\n",
    "In both cases we have $x\\in A\\cup (B \\cap C)$. This proves the containment\n",
    "\n",
    "$(A\\cup B) \\cap (A\\cup C)\\subseteq A\\cup (B \\cap C)$"
   ]
  },
  {
   "cell_type": "markdown",
   "metadata": {},
   "source": [
    "# Linear Algebra"
   ]
  },
  {
   "cell_type": "markdown",
   "metadata": {},
   "source": [
    "#### Prove that:\n",
    "<br>\n",
    "$(AB)^{T} = B^{T}A^{T}$ for each pair of matrices $A, B \\in \\mathbb{R}^{n \\times m}$"
   ]
  },
  {
   "cell_type": "markdown",
   "metadata": {},
   "source": [
    "Proof:  First observe that the $ij$ entry of $AB$ can be written as\n",
    "\n",
    "$(AB)_{ij}=\\sum_kA_{ik}B_{kj}$ \n",
    "\n",
    "transpose reverses the order of indices:\n",
    "\n",
    "$A^T_{ij}=A_{ji}$\n",
    "\n",
    "So: $(AB)^T_{ij}=(AB)_{ji}=\\sum_kA_{jk}B_{ki}=\\sum_kA^T_{kj}B^T_{ik}=\\sum_kB^T_{ik}A^T{kj}=(B^TA^T)_{ij}$\n",
    "\n",
    "Hence $(AB)^T=B^TA^T$"
   ]
  },
  {
   "cell_type": "markdown",
   "metadata": {},
   "source": [
    "## Functions on tensors"
   ]
  },
  {
   "cell_type": "markdown",
   "metadata": {},
   "source": [
    "#### Write combination for $XOR$ calculation"
   ]
  }
 ],
 "metadata": {
  "kernelspec": {
   "display_name": "Python 3",
   "language": "python",
   "name": "python3"
  },
  "language_info": {
   "codemirror_mode": {
    "name": "ipython",
    "version": 3
   },
   "file_extension": ".py",
   "mimetype": "text/x-python",
   "name": "python",
   "nbconvert_exporter": "python",
   "pygments_lexer": "ipython3",
   "version": "3.7.4"
  }
 },
 "nbformat": 4,
 "nbformat_minor": 4
}
