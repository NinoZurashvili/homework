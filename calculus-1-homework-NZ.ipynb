{
 "cells": [
  {
   "cell_type": "markdown",
   "metadata": {},
   "source": [
    "# Metric spaces"
   ]
  },
  {
   "cell_type": "markdown",
   "metadata": {},
   "source": [
    "#### Prove that:\n",
    "For every metric space (X, d):\n",
    "- For eny $\\mathcal{U} = \\{U | U$ is open in $(X, d)\\}$ holds $\\bigcup_{U \\in \\mathcal{U}} U$ is open in $(X, d)$\n",
    "- For eny two $U, V \\subset X$ open in $(X, d)$ holds: $U \\cap V$ is open in $(X, d)$\n",
    "- $X$ is open in $(X, d)$\n",
    "- $\\emptyset$ is open in $(X, d)$"
   ]
  },
  {
   "cell_type": "markdown",
   "metadata": {},
   "source": [
    "Proof 1: Let $\\mathcal{U}$ be any collection of open sets in $X$, and let $S$ denote the union of\n",
    "all the open sets belonging to $\\mathcal{U}$. We must show that S is itself an open set.\n",
    "Let $x \\in S$. Then $x \\in V$ for some open set $V$ belonging to the collection $\\mathcal{U}$.\n",
    "Therefore there exists some $\\delta> 0$ such that $B_X(x, \\delta) \\subset V$ . But $V \\subset S$, and\n",
    "thus $B_X(x, \\delta) \\subset S$. This shows that $S$ is open.\n"
   ]
  },
  {
   "cell_type": "markdown",
   "metadata": {},
   "source": [
    "proof 2: let $U,V$ be a finite collection of open sets in $X$, and let\n",
    "$S = U \\cap V $ Let x ∈ $S$ . Now $x \\in S_j$ for all $j$, and therefore there\n",
    "exist strictly positive real numbers $\\delta_1, \\delta_2$ such that $B_X(x, \\delta_j ) \\subset V_j$\n",
    "for $j$ = 1, 2. Let $\\delta$ be the minimum of $\\delta_1, \\delta_2$ Then $\\delta > 0$.\n",
    "(This is where we need the fact that we are dealing with a finite collection\n",
    "of open sets.) Moreover $B_X(x, \\delta) \\subset B_X(x, \\delta_j ) \\subset S_j$\n",
    "for $j$ = 1, 2 and\n",
    "thus $B_X(x, \\delta) \\subset S$ . This shows that the intersection $S$ of the open sets\n",
    "$U,V$ is itself open. "
   ]
  },
  {
   "cell_type": "markdown",
   "metadata": {},
   "source": [
    "proof 3,4: The empty set $\\emptyset$ is an open set by convention. Moreover the definition\n",
    "of an open set is satisfied trivially by the whole set $X$."
   ]
  },
  {
   "cell_type": "markdown",
   "metadata": {},
   "source": [
    "#### Prove that:\n",
    "- For eny finity set $(U)_{i=1}^{n}$ of open sets in $(X, d)$, $\\bigcap_{i=1}^{n}U$ is open in $(X, d)$"
   ]
  },
  {
   "cell_type": "markdown",
   "metadata": {},
   "source": [
    "proof 2: let $V_1, V_2, V_3, . . . , V_k$ be a finite collection of open sets in $X$, and let\n",
    "$V = V_1 \\cap V_2 \\cap . . . \\cap V_k.$ Let $x \\in V$ . Now $x \\in V_j$\n",
    "for all $j$, and therefore there\n",
    "exist strictly positive real numbers $\\delta_1, \\delta_2, . . . , \\delta_k$ such that $B_X(x, \\delta_j ) \\subset V_j$\n",
    "for $j$ = 1, 2, . . . , $k$. Let $\\delta$ be the minimum of $\\delta_1, \\delta_2, . . . , \\delta_k.$ Then $\\delta > 0$.\n",
    "(This is where we need the fact that we are dealing with a finite collection\n",
    "of open sets.) Moreover $B_X(x, \\delta) \\subset B_X(x, \\delta_j ) \\subset V_j$\n",
    "for $j$ = 1, 2, . . . , $k$, and\n",
    "thus $B_X(x, \\delta) \\subset V$ . This shows that the intersection $V$ of the open sets\n",
    "$V_1, V_2, . . . , V_k$ is itself open. "
   ]
  },
  {
   "cell_type": "markdown",
   "metadata": {},
   "source": [
    "#### Prove that for set $U \\subset X$ is open if and only if for each point $x \\in U$ there exists the open neighbourhood $V$ of $x$ such that $V \\subset U$"
   ]
  },
  {
   "cell_type": "markdown",
   "metadata": {},
   "source": [
    "proof: For any $x \\in U$ pick an open set $V_x \\subset U$ with $x \\in V_x$ . Then $\\bigcup_{x\\in U} V_x = U:$ Since any $V_x$ is a subset of $U$, there union $\\bigcup_{x\\in U} V_x$ is still a subset of $U$. Conversely, if $y \\in U$, then $y \\in V_y \\subset \\bigcup_{x\\in U} V_x$.\n",
    " But then\n",
    "$U=\\bigcup_{x\\in U} V_x$ is a union of open subsets of $X$ and therefore open itself.\n"
   ]
  },
  {
   "cell_type": "markdown",
   "metadata": {},
   "source": [
    "#### Prove that, closed ball is closed subset in $(X, d)$\n"
   ]
  },
  {
   "cell_type": "markdown",
   "metadata": {},
   "source": [
    "Given a metric space ($X, d$), a point $x \\in X$ and $\\epsilon > 0$, define $B_\\epsilon(x) =\n",
    "{y \\in X : d(y, x) \\leq \\epsilon}$, called the closed ball of radius $\\epsilon$ centered at $x$.\n",
    "\n",
    "By definition, it suffices to show that $X$ \\ $B_\\epsilon(x)$ is open.\n",
    "Take any $z \\in X$ \\ $B_\\epsilon(x)$. Then $d(z, x) \\gt \\epsilon$, so if set $ = d(z, x) -\\epsilon$, then\n",
    "$\\delta \\gt 0$. Now take any $y \\in N_\\delta(z)$. Then $d(z, x) \\le d(y, x)+d(z, y) < d(y, x)+\\delta$,\n",
    "whence $d(y, x) > d(z, x)-\\delta = d(z, x)-(d(z, x)-\\epsilon) = \\epsilon$. Hence $y \\in X  $\\ $B_\\epsilon(x)$.\n",
    "Thus, we showed that for any $z \\in X$ \\ $B_\\epsilon(x)$, there is $\\delta > 0$ such that\n",
    "$N_\\delta(z) \\subseteq X $\\ $B_\\epsilon(x)$, so by definition, $X$ \\ $B_\\epsilon(x)$ is open.\n"
   ]
  },
  {
   "cell_type": "markdown",
   "metadata": {},
   "source": [
    "#### Prove that\n",
    "For every metric space (X, d):\n",
    "- For eny $\\mathcal{F} = \\{F | F$ is closed in $(X, d)\\}$ holds $\\bigcap_{F \\in \\mathcal{F}} F$ is closed in $(X, d)$\n",
    "- For eny two $F_1, F_2 \\subset X$ closed in $(X, d)$ holds: $F_1 \\cup F_2$ is closed in $(X, d)$\n",
    "- $X$ is closed in $(X, d)$\n",
    "- $\\emptyset$ is closed in $(X, d)$"
   ]
  },
  {
   "cell_type": "markdown",
   "metadata": {},
   "source": [
    "$C(A) = X$ \\ $F$\n",
    "\n",
    "proof 1: Suppose {$F_i: i \\in I$} is a collection of sets, indexed by $I$, and let $F = \\bigcap_{i\\in I} F_i$. Then\n",
    "\n",
    "$C(F)=C( \\bigcap_{i\\in I} F_i)= \\bigcup_{i\\in I} C(F_i).$\n",
    "\n",
    "The r.h.s. is a union of a collection of open sets and hence open. Thus, by\n",
    "definition, $F$ is closed."
   ]
  },
  {
   "cell_type": "markdown",
   "metadata": {},
   "source": [
    "proof 2:  Suppose $F=\\bigcup_{n=1}^2F_i$ is a finite union of closed sets. then\n",
    "\n",
    "$C(F)=C(\\bigcup_{i\\in 1}^{2}F_i)=\\bigcap_{i\\in 1}^{2}C(F_i)$\n",
    "\n",
    "The r.h.s. is a finite intersection of open sets and hence open. Thus, by\n",
    "definition, $F$ is closed.\n"
   ]
  },
  {
   "cell_type": "markdown",
   "metadata": {},
   "source": [
    "proof 3,4: $C(X) = \\emptyset$ and $C(\\emptyset) = X$"
   ]
  },
  {
   "cell_type": "markdown",
   "metadata": {},
   "source": [
    "#### Prove that:\n",
    "- For eny finity set $(F)_{i=1}^{n}$ of closed sets in $(X, d)$, $\\bigcup_{i=1}^{n}F$ is closed in $(X, d)$"
   ]
  },
  {
   "cell_type": "markdown",
   "metadata": {},
   "source": [
    "proof:  Suppose $F= \\bigcup_{n=1}^k F_i$ is a finite union of closed sets. then\n",
    "\n",
    "$C(F)=C( \\bigcup_{i\\in 1}^{k} F_i)= \\bigcap_{i\\in 1}^{k} C(F_i)$\n",
    "\n",
    "The r.h.s. is a finite intersection of open sets and hence open. Thus, by\n",
    "definition, $F$ is closed.\n"
   ]
  },
  {
   "cell_type": "markdown",
   "metadata": {},
   "source": [
    "#### Prove that, if $F \\subset X$ is closed then $X - F$ is open in $(X, d)$ "
   ]
  },
  {
   "cell_type": "markdown",
   "metadata": {},
   "source": [
    "proof: Suppose $x$ is a point in $X-F$. Then since $F$ is closed and contains all its limit points, the point $x$ is NOT a limit point of $F$. By definition there is an open set $O$ with $x$ in $O$ and $O$ does does not contain any points of $F$. That is, $O$ is a subset of $X-F$. This shows $X-F$ is open as every point will have a neighborhood contained in $X-F$"
   ]
  },
  {
   "cell_type": "markdown",
   "metadata": {},
   "source": [
    "# Metrics in Euclidean spaces"
   ]
  },
  {
   "cell_type": "markdown",
   "metadata": {},
   "source": [
    "#### Prove that:\n",
    "- for every $u, v \\in \\mathbb{R}^{n}$: $d(u, v) \\geq 0$\n",
    "- for every $v \\in \\mathbb{R}^{n}$: $d(v, v) = 0$\n",
    "- for every $u, v \\in \\mathbb{R}^{n}$: $d(u, v) = d(v, u)$ (symmetry)\n",
    "- for every $u, v, w \\in \\mathbb{R}^{n}$: $d(u, w) \\leq d(v, u) + d(v, w)$ (triangle inequality)"
   ]
  },
  {
   "cell_type": "markdown",
   "metadata": {},
   "source": [
    "#### Prove the same properties hold for $d(u, v) = ||u-v||_1$ ($||u-v||_1 = \\sum_{i = 1}^{n}|u_i - v_i|$)"
   ]
  },
  {
   "cell_type": "markdown",
   "metadata": {},
   "source": [
    "## Sequences and limits"
   ]
  },
  {
   "cell_type": "markdown",
   "metadata": {},
   "source": [
    "#### Prove that $x = \\lim_{n\\to\\infty}{x_n}$ in $(X, d)$ if and only if (iff) for every $r \\in \\mathbb{R}$ there exists $n_0 \\in \\mathbb{N}$ such that: $x_i \\in B(x, r)$ for every $i \\gt n_0$"
   ]
  },
  {
   "cell_type": "markdown",
   "metadata": {},
   "source": [
    "proof: If $d(x_n,x) < \\epsilon$ for all $n \\ge N_\\epsilon$, then $x_n \\in B_\\epsilon(a)$ for all $n \\ge N_\\epsilon$, and vice versa."
   ]
  },
  {
   "cell_type": "markdown",
   "metadata": {},
   "source": [
    "#### Prove that if $x = \\lim_{n\\to\\infty}{x_n}$ and $x \\notin \\{-\\infty, \\infty\\}$ then $(x_i)_{i=1}^{\\infty} = (x_1, x_2, \\dots, x_n)$ is a Cauchy sequence\n",
    "<br>\n",
    "For closed set $F \\subset \\mathbb{R}^n$ and convergent sequence $(x_i)_{i=1}^{\\infty} = (x_1, x_2, \\dots, x_n)$ such that there exists $n_0 \\in \\mathbb{N}$ such that $x_i \\in F$ for each $i \\gt n_0$ then: $\\lim_{n\\to\\infty}{x_n} \\in F$"
   ]
  },
  {
   "cell_type": "markdown",
   "metadata": {},
   "source": [
    "proof: Suppose $x_i \\to x$. Consider any $epsilon > 0$. Choose $T$ such that for all $t > T$,\n",
    "$d(x_t, x) < \\epsilon /2$. Then, by the triangle inequality, for any $s, t > T, d(x_s, x_t) \\le d(x_s, x) + d(x, x_t) < \\epsilon.$"
   ]
  },
  {
   "cell_type": "markdown",
   "metadata": {},
   "source": [
    "#### Prove that if $F$ is open from previous example, statement does not hold. "
   ]
  },
  {
   "cell_type": "markdown",
   "metadata": {},
   "source": [
    "#### Prove that inherited metric is a metric"
   ]
  },
  {
   "cell_type": "markdown",
   "metadata": {},
   "source": [
    "proof: consider a subspace $Y \\subset X$ which the same distance definition. Then for $x, y, z \\in Y$ the following still holds:\n",
    "\n",
    "$d(x, x) = 0$ $\\Leftrightarrow$ $x=y$ \n",
    "\n",
    "$d(x, y) = d(y, x)$ \n",
    "\n",
    "$d(x, z) \\leq d(x, y) + d(y, z)$ "
   ]
  },
  {
   "cell_type": "markdown",
   "metadata": {},
   "source": [
    "## Limits of functions"
   ]
  },
  {
   "cell_type": "markdown",
   "metadata": {},
   "source": [
    "Let $f:S \\to Y$ is function between subset $S \\subset X$ of a metric space $(X, d_x)$ and metric space $(Y, d_Y)$\n",
    "- We say that the limit of function $f:(S, d_x) \\to (Y, d_Y)$ between metric spaces in some limit point $c \\in X$ of the subset $S$ is $y \\in Y $if for each open neighborhood of $y \\in V \\subset Y$ there exists the open seighborhood of $c \\in U \\subset X$ such that $f(U \\cap S) \\subset V$\n",
    "<br>\n",
    "This definition is equiualent of definition:\n",
    "<br>\n",
    "- The limit of function $f:(S, d_X) \\to (Y, d_Y)$ between metric spaces in limit point $c \\in X$ of the subset $S$ is $y \\in Y $ if for each open ball $B(x, r) \\subset Y$ there exists the ball $B(c, l) \\subset X$ such that $f(B(c, l) \\cap S) \\subset B(y, r)$\n",
    "<br>\n",
    "or\n",
    "<br>\n",
    "- The limit of function $f:(S, d_X) \\to (Y, d_Y)$ between metric spaces in limit point $c \\in X$ of subset $S$ is $y \\in Y $ if for any $r \\in \\mathbb{R}$ there exists $l \\in \\mathbb{R}$ such that for every $x \\in S$ with $d_X(x, c) < l$ implies that $d_Y(f(x), y) < r$"
   ]
  },
  {
   "cell_type": "markdown",
   "metadata": {},
   "source": [
    "#### Prove that this three definitions are equiualent for any function between any two metric spaces"
   ]
  },
  {
   "cell_type": "markdown",
   "metadata": {},
   "source": [
    "## Continuous functions "
   ]
  },
  {
   "cell_type": "markdown",
   "metadata": {},
   "source": [
    "#### Prove that function is continuous in $c$ if for eny sequence $(x_n)_{n=1}^{\\infty} \\subset X$ such that $\\lim_{n \\to \\infty}x_n = c$ we have $\\lim_{n \\to \\infty}f(x_n) = f(c)$"
   ]
  },
  {
   "cell_type": "markdown",
   "metadata": {},
   "source": [
    "#### Prove that function is continuous if for every open set $V \\subset Y$ the $f^{-1}(V)$ is open in $X$"
   ]
  },
  {
   "cell_type": "markdown",
   "metadata": {},
   "source": [
    "proof: First, assume that $f$ is a continuous function, as in calculus; let $U$ be an\n",
    "open set in $Y$ , we want to prove that $f^{-1}(U)$ is open in $X$.\n",
    "If p is a point in $f^{-1}(U)$, we must show there is a little open ball around $p$\n",
    "that is all contained in $f^{-1}(U)$.\n",
    "\n",
    "But $f(p) \\in U$ which is an open set, so there exists a ball $B$ of radius $r$\n",
    "centered at $f(p)$ and all contained in $U$.\n",
    "Continuity calculus style tells us that provided that we take a small enough\n",
    "radius, there is a ball $C$ around $p$ such that $f(C)$ is contained in $B$, and\n",
    "hence in $U$. Which means that $C$ is all contained in $f^{-1}(U)$.\n",
    "Now assume that for any open set in $Y$, its preimage via $f$ is open. We want\n",
    "to show that $f$ is a continuous function. Let $p$ be a point in $X$, $f(p)$ the\n",
    "corresponding image in $Y$ .\n",
    "To show that $f$ is continuous at $p$ we must show that, given a ball $B$ of\n",
    "radius $\\epsilon$ around $f(p)$, there exists a ball $C$ whose image is entirely contained\n",
    "in $B$.\n",
    "But $B$ in particular is an open set. Therefore $f^{-1}(B)$ is open. Therefore $p$ is\n",
    "an interior point for $f^{-1}(B)$: there is a little ball $C$ centered at $p$ contained\n",
    "in $f^{-1}(B)$.\n",
    "This implies that $f(C)$ is contained in $B$, which is what we needed to show.\n"
   ]
  },
  {
   "cell_type": "markdown",
   "metadata": {},
   "source": [
    "#### Prove that function is continuous if for every closed set $F \\subset Y$ the $f^{-1}(F)$ is closed in $X$"
   ]
  },
  {
   "cell_type": "markdown",
   "metadata": {},
   "source": [
    "proof: Assume $f$ is continuous.\n",
    "Let $K$ be any closed set in $Y$ .\n",
    "Then $Y $ \\ $ K$ is open.\n",
    "Then $f^{-1}$ (Y \\ K) is open by previous task.\n",
    "But $f^{-1}$ (Y \\ K) = X \\ $f^{-1}$(K).\n",
    "Hence $f^{-1}$(K) is closed.\n",
    "Now assume the preimage of any closed set is closed.\n",
    "Let $U$ be any open set in $Y$ .\n",
    "$Y$ \\ $U$ is closed.\n",
    "Hence $f^{-1}$\n",
    "($Y$ \\ $U$) = X \\ $f^{-1}$ (U) is closed.\n",
    "Which implies that $f^{-1}$ (U) is open. Hence the preimage of any open set is\n",
    "open, and $f$ is continuous by previous exercise ."
   ]
  },
  {
   "cell_type": "markdown",
   "metadata": {},
   "source": [
    "#### Prove that any composition of continous functions is continous"
   ]
  },
  {
   "cell_type": "markdown",
   "metadata": {},
   "source": [
    "Suppose f and g are functions such that g is continuous at a, and f is continuous at g(a). Show the composition f(g(x)) is continuous at a"
   ]
  },
  {
   "cell_type": "markdown",
   "metadata": {},
   "source": [
    "proof: Since $f$ is continuous at $g(a)$, our definition of continuity tells us that for all $\\epsilon>0$ there is some $ \\delta_1 $ such that\n",
    "\n",
    "$|g(x)-g(a)|<\\delta_1 \\to |f(g(x))-f(g(a))|<\\epsilon$.\n",
    "\n",
    "Also, since $g$ is continuous at $a$, there is some $\\delta$ such that\n",
    "$|x-a|<\\delta \\to |g(x)-g(a)|<\\delta_1$.\n",
    "\n",
    "I've taken $\\epsilon=\\delta_1$ here. Now this tells us that for all $\\epsilon>0$ there is some $\\delta>0$ (and a $\\delta_1$>0) such that\n",
    "\n",
    "$|x-a|<\\delta \\to |g(x)-g(a)|<\\delta_1\\to |f(g(x))-f(g(a))|<\\epsilon$"
   ]
  },
  {
   "cell_type": "code",
   "execution_count": null,
   "metadata": {},
   "outputs": [],
   "source": []
  }
 ],
 "metadata": {
  "kernelspec": {
   "display_name": "Python 3",
   "language": "python",
   "name": "python3"
  },
  "language_info": {
   "codemirror_mode": {
    "name": "ipython",
    "version": 3
   },
   "file_extension": ".py",
   "mimetype": "text/x-python",
   "name": "python",
   "nbconvert_exporter": "python",
   "pygments_lexer": "ipython3",
   "version": "3.7.4"
  }
 },
 "nbformat": 4,
 "nbformat_minor": 4
}
